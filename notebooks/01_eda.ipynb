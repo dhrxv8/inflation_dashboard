{
 "cells": [
  {
   "cell_type": "markdown",
   "metadata": {},
   "source": [
    "# Inflation Dashboard - Exploratory Data Analysis\n",
    "Visual sanity checks for engineered features"
   ]
  },
  {
   "cell_type": "code",
   "execution_count": null,
   "metadata": {},
   "outputs": [],
   "source": [
    "import pandas as pd\n",
    "import numpy as np\n",
    "import matplotlib.pyplot as plt\n",
    "import plotly.express as px\n",
    "import plotly.graph_objects as go\n",
    "\n",
    "# Load the feature table\n",
    "df = pd.read_csv('../data/processed/feature_table.csv', index_col=0, parse_dates=True)\n",
    "print(f\"�� Dataset: {df.shape[0]} observations, {df.shape[1]} features\")\n",
    "print(f\"📅 Time range: {df.index.min().date()} to {df.index.max().date()}\")\n",
    "print(f\"🎯 Key inflation measures available: CPI, Core CPI, PCE, Core PCE\")"
   ]
  },
  {
   "cell_type": "markdown",
   "metadata": {},
   "source": [
    "## 1. Inflation Trends Over Time"
   ]
  },
  {
   "cell_type": "code",
   "execution_count": null,
   "metadata": {},
   "outputs": [],
   "source": [
    "# Plot inflation rates (YoY)\n",
    "fig = go.Figure()\n",
    "fig.add_trace(go.Scatter(x=df.index, y=df['CPIAUCSL_yoy'], name='CPI YoY %', line=dict(color='blue')))\n",
    "fig.add_trace(go.Scatter(x=df.index, y=df['CPILFESL_yoy'], name='Core CPI YoY %', line=dict(color='red')))\n",
    "fig.add_trace(go.Scatter(x=df.index, y=df['PCEPI_yoy'], name='PCE YoY %', line=dict(color='green')))\n",
    "fig.add_hline(y=2, line_dash=\"dash\", annotation_text=\"Fed Target (2%)\", line_color=\"black\")\n",
    "fig.update_layout(\n",
    "    title='🎯 Inflation Rates - Year over Year Comparison',\n",
    "    xaxis_title='Date',\n",
    "    yaxis_title='Annual Inflation Rate (%)',\n",
    "    hovermode='x unified'\n",
    ")\n",
    "fig.show()"
   ]
  },
  {
   "cell_type": "markdown",
   "metadata": {},
   "source": [
    "## 2. Fed Policy vs Inflation"
   ]
  },
  {
   "cell_type": "code",
   "execution_count": null,
   "metadata": {},
   "outputs": [],
   "source": [
    "# Create subplot with secondary y-axis\n",
    "fig = go.Figure()\n",
    "\n",
    "# Add Fed Funds Rate\n",
    "fig.add_trace(go.Scatter(\n",
    "    x=df.index, y=df['FEDFUNDS'], \n",
    "    name='Fed Funds Rate', \n",
    "    line=dict(color='purple', width=2),\n",
    "    yaxis='y'\n",
    "))\n",
    "\n",
    "# Add CPI inflation on secondary axis\n",
    "fig.add_trace(go.Scatter(\n",
    "    x=df.index, y=df['CPIAUCSL_yoy'], \n",
    "    name='CPI Inflation (YoY)', \n",
    "    line=dict(color='orange', width=2),\n",
    "    yaxis='y2'\n",
    "))\n",
    "\n",
    "# Update layout\n",
    "fig.update_layout(\n",
    "    title='🏦 Federal Reserve Policy vs Inflation',\n",
    "    xaxis_title='Date',\n",
    "    yaxis=dict(title='Fed Funds Rate (%)', side='left'),\n",
    "    yaxis2=dict(title='CPI Inflation (%)', side='right', overlaying='y'),\n",
    "    hovermode='x unified'\n",
    ")\n",
    "fig.show()"
   ]
  },
  {
   "cell_type": "markdown",
   "metadata": {},
   "source": [
    "## 3. Real vs Nominal Money Supply"
   ]
  },
  {
   "cell_type": "code",
   "execution_count": null,
   "metadata": {},
   "outputs": [],
   "source": [
    "# Plot M2 money supply - nominal vs real\n",
    "fig = go.Figure()\n",
    "fig.add_trace(go.Scatter(x=df.index, y=df['M2SL'], name='M2 Nominal', line=dict(color='blue')))\n",
    "fig.add_trace(go.Scatter(x=df.index, y=df['M2SL_real'], name='M2 Real (Inflation-Adjusted)', line=dict(color='red')))\n",
    "fig.update_layout(\n",
    "    title='�� Money Supply M2: Nominal vs Real (Inflation-Adjusted)',\n",
    "    xaxis_title='Date',\n",
    "    yaxis_title='Billions of Dollars',\n",
    "    hovermode='x unified'\n",
    ")\n",
    "fig.show()"
   ]
  }
 ],
 "metadata": {
  "kernelspec": {
   "display_name": "Python 3",
   "language": "python",
   "name": "python3"
  },
  "language_info": {
   "name": "python",
   "version": "3.12.7"
  }
 },
 "nbformat": 4,
 "nbformat_minor": 4
}
